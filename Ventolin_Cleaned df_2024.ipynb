{
 "cells": [
  {
   "cell_type": "markdown",
   "metadata": {},
   "source": [
    "# Data Cleaning & Preprocessing"
   ]
  },
  {
   "cell_type": "markdown",
   "metadata": {},
   "source": [
    "## 1. Load Library"
   ]
  },
  {
   "cell_type": "code",
   "execution_count": 1,
   "metadata": {},
   "outputs": [],
   "source": [
    "import pandas as pd"
   ]
  },
  {
   "cell_type": "markdown",
   "metadata": {},
   "source": [
    "## 2. Load 2024 Dataset"
   ]
  },
  {
   "cell_type": "code",
   "execution_count": null,
   "metadata": {},
   "outputs": [],
   "source": [
    "file_name = '../final dataset/Final2024_df.csv'"
   ]
  },
  {
   "cell_type": "code",
   "execution_count": null,
   "metadata": {},
   "outputs": [],
   "source": [
    "final_df = pd.read_csv(file_name)"
   ]
  },
  {
   "cell_type": "markdown",
   "metadata": {},
   "source": [
    "## 3. Cleaning & Preprocessing"
   ]
  },
  {
   "cell_type": "markdown",
   "metadata": {},
   "source": [
    "### 3.1 Apply filters to final df"
   ]
  },
  {
   "cell_type": "code",
   "execution_count": 3,
   "metadata": {},
   "outputs": [
    {
     "name": "stdout",
     "output_type": "stream",
     "text": [
      "shape of dataframe before filters (131, 51)\n",
      "shape of dataframe after filters (121, 50)\n"
     ]
    }
   ],
   "source": [
    "print(f'shape of dataframe before filters',final_df.shape)\n",
    "\n",
    "# Apply filters\n",
    "final_df = final_df[final_df['rpsr_cod'].str.contains('CSM|HP')]  # report source code set to HP:Health Professional and CSM:Consumer\n",
    "final_df['rpsr_cod'] = final_df['rpsr_cod'].str.strip()\n",
    "final_df['pt'] = final_df['pt'].str.strip()\n",
    "final_df = final_df.drop_duplicates()\n",
    "\n",
    "# Drop the new column created, if present.\n",
    "if 'Unnamed: 0' in final_df.columns:\n",
    "    final_df = final_df.drop(columns=['Unnamed: 0'])\n",
    "\n",
    "print(f'shape of dataframe after filters',final_df.shape)"
   ]
  },
  {
   "cell_type": "markdown",
   "metadata": {},
   "source": [
    "### 3.2 Convert all ages to year"
   ]
  },
  {
   "cell_type": "markdown",
   "metadata": {},
   "source": [
    "Convert ages from day and month to years"
   ]
  },
  {
   "cell_type": "code",
   "execution_count": 4,
   "metadata": {},
   "outputs": [],
   "source": [
    "# Convert ages from months to years\n",
    "final_df.loc[final_df['age_cod'] == 'MON', 'age'] /= 12\n",
    "\n",
    "# Change 'MON' to 'YR'\n",
    "final_df.loc[final_df['age_cod'] == 'MON', 'age_cod'] = 'YR'\n",
    "\n",
    "# Convert ages from days to years\n",
    "final_df.loc[final_df['age_cod'] == 'DY', 'age'] /= 365\n",
    "\n",
    "# Change 'DY' to 'YR'\n",
    "final_df.loc[final_df['age_cod'] == 'DY', 'age_cod'] = 'YR'\n",
    "\n",
    "# Ensure the age values are rounded to 1 decimal place\n",
    "final_df['age'] = final_df['age'].round(1)"
   ]
  },
  {
   "cell_type": "markdown",
   "metadata": {},
   "source": [
    "Convert all weights from lbs to kgs"
   ]
  },
  {
   "cell_type": "code",
   "execution_count": null,
   "metadata": {},
   "outputs": [],
   "source": [
    "# Convert weights from lbs to kgs\n",
    "final_df.loc[final_df['wt_cod'] == 'LBS', 'wt'] /= 2.2"
   ]
  },
  {
   "cell_type": "markdown",
   "metadata": {},
   "source": [
    "### 3.3 Drop NA and Duplicates"
   ]
  },
  {
   "cell_type": "markdown",
   "metadata": {},
   "source": [
    "drop NAs in age column"
   ]
  },
  {
   "cell_type": "code",
   "execution_count": 5,
   "metadata": {},
   "outputs": [
    {
     "name": "stdout",
     "output_type": "stream",
     "text": [
      "shape of dataframe (121, 50)\n",
      "shape of dataframe after dropping NAs in age (95, 50)\n"
     ]
    }
   ],
   "source": [
    "print(f'shape of dataframe',final_df.shape)\n",
    "final_df = final_df.dropna(subset='age')\n",
    "print(f'shape of dataframe after dropping NAs in age',final_df.shape)"
   ]
  },
  {
   "cell_type": "markdown",
   "metadata": {},
   "source": [
    "Drop duplicates"
   ]
  },
  {
   "cell_type": "code",
   "execution_count": 6,
   "metadata": {},
   "outputs": [
    {
     "name": "stdout",
     "output_type": "stream",
     "text": [
      "shape of dataframe (95, 50)\n",
      "shape of dataframe after dropping duplicates (95, 50)\n"
     ]
    }
   ],
   "source": [
    "print(f'shape of dataframe',final_df.shape)\n",
    "final_df = final_df.drop_duplicates()\n",
    "print(f'shape of dataframe after dropping duplicates',final_df.shape)"
   ]
  },
  {
   "cell_type": "markdown",
   "metadata": {},
   "source": [
    "### 3.4 Create and Add age categories\n",
    "create age categories based on age"
   ]
  },
  {
   "cell_type": "code",
   "execution_count": 7,
   "metadata": {},
   "outputs": [],
   "source": [
    "age_bins = [0, 17, 34, 54, 74, 120]\n",
    "age_labels = ['Children & Adolescents', 'Young Adults', 'Adults', 'Seniors', 'Elderly']\n",
    "final_df['age_category'] = pd.cut(final_df['age'], bins=age_bins, labels=age_labels, right=False)\n"
   ]
  },
  {
   "cell_type": "markdown",
   "metadata": {},
   "source": [
    "### 3.5 Map and Add adverse events categories "
   ]
  },
  {
   "cell_type": "code",
   "execution_count": 8,
   "metadata": {},
   "outputs": [],
   "source": [
    "# Load the categories CSV into a DataFrame\n",
    "pt_categories = pd.read_csv('../final dataset/Drugs/pt categories.csv')"
   ]
  },
  {
   "cell_type": "markdown",
   "metadata": {},
   "source": [
    "map the adverse events to a category"
   ]
  },
  {
   "cell_type": "code",
   "execution_count": null,
   "metadata": {},
   "outputs": [],
   "source": [
    "# Convert the DataFrame into a dictionary\n",
    "# Strip extra whitespace and convert events to lists\n",
    "category_mapping = pt_categories.set_index('Category')['Events'].apply(lambda x: [e.strip().lower() for e in x.split(',')]).to_dict()\n",
    "\n",
    "# Define the categorisation function\n",
    "def categorise_side_effect(side_effect, category_mapping):\n",
    "    side_effect = side_effect.strip().lower()  # Clean and standardize the input\n",
    "    for category, effects in category_mapping.items():\n",
    "        if side_effect in effects:\n",
    "            return category\n",
    "    return 'Other Event'\n",
    "\n",
    "# Apply the categorization function to the 'pt' column\n",
    "final_df['pt_category'] = final_df['pt'].apply(lambda x: categorise_side_effect(x, category_mapping))\n"
   ]
  },
  {
   "cell_type": "markdown",
   "metadata": {},
   "source": [
    "## 4. Save the final dataframe"
   ]
  },
  {
   "cell_type": "code",
   "execution_count": null,
   "metadata": {},
   "outputs": [],
   "source": [
    "# save the dataframe\n",
    "final_df.to_csv('../final dataset/Ventolin2024_df.csv')"
   ]
  }
 ],
 "metadata": {
  "kernelspec": {
   "display_name": "Python 3",
   "language": "python",
   "name": "python3"
  },
  "language_info": {
   "codemirror_mode": {
    "name": "ipython",
    "version": 3
   },
   "file_extension": ".py",
   "mimetype": "text/x-python",
   "name": "python",
   "nbconvert_exporter": "python",
   "pygments_lexer": "ipython3",
   "version": "3.11.2"
  }
 },
 "nbformat": 4,
 "nbformat_minor": 2
}
